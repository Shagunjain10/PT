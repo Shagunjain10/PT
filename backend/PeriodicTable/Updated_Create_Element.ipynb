{
 "cells": [
  {
   "cell_type": "code",
   "execution_count": 1,
   "id": "boring-formula",
   "metadata": {},
   "outputs": [],
   "source": [
    "import os\n",
    "import django\n",
    "os.environ.setdefault('DJANGO_SETTINGS_MODULE', 'rest.settings')\n",
    "os.environ[\"DJANGO_ALLOW_ASYNC_UNSAFE\"] = \"true\"\n",
    "django.setup()\n",
    "    "
   ]
  },
  {
   "cell_type": "code",
   "execution_count": 2,
   "id": "regular-memory",
   "metadata": {},
   "outputs": [],
   "source": [
    "from Element.models import Element, Group, Period, Block"
   ]
  },
  {
   "cell_type": "code",
   "execution_count": 3,
   "id": "wired-drive",
   "metadata": {},
   "outputs": [],
   "source": [
    "from django.db.models import Model"
   ]
  },
  {
   "cell_type": "code",
   "execution_count": 4,
   "id": "adjusted-prague",
   "metadata": {},
   "outputs": [
    {
     "data": {
      "text/plain": [
       "<QuerySet [<Group: 0>, <Group: 1>, <Group: 2>, <Group: 3>, <Group: 4>, <Group: 5>, <Group: 6>, <Group: 7>, <Group: 8>, <Group: 9>, <Group: 10>, <Group: 11>, <Group: 12>, <Group: 13>, <Group: 14>, <Group: 15>, <Group: 16>, <Group: 17>, <Group: 18>]>"
      ]
     },
     "execution_count": 4,
     "metadata": {},
     "output_type": "execute_result"
    }
   ],
   "source": [
    "Group.objects.all()"
   ]
  },
  {
   "cell_type": "code",
   "execution_count": 5,
   "id": "human-halifax",
   "metadata": {},
   "outputs": [
    {
     "data": {
      "text/plain": [
       "<QuerySet []>"
      ]
     },
     "execution_count": 5,
     "metadata": {},
     "output_type": "execute_result"
    }
   ],
   "source": [
    "Period.objects.all()"
   ]
  },
  {
   "cell_type": "markdown",
   "id": "spread-specification",
   "metadata": {},
   "source": [
    "### Create Periods in Periodic Table"
   ]
  },
  {
   "cell_type": "code",
   "execution_count": 6,
   "id": "level-yacht",
   "metadata": {},
   "outputs": [],
   "source": [
    "for i in range(1,8):\n",
    "    p=Period(Period_name=i)\n",
    "    p.save()"
   ]
  },
  {
   "cell_type": "code",
   "execution_count": 7,
   "id": "accepting-simple",
   "metadata": {},
   "outputs": [
    {
     "data": {
      "text/plain": [
       "<QuerySet [<Period: 1>, <Period: 2>, <Period: 3>, <Period: 4>, <Period: 5>, <Period: 6>, <Period: 7>]>"
      ]
     },
     "execution_count": 7,
     "metadata": {},
     "output_type": "execute_result"
    }
   ],
   "source": [
    "Period.objects.all()"
   ]
  },
  {
   "cell_type": "markdown",
   "id": "electronic-conflict",
   "metadata": {},
   "source": [
    "### Create Block in Periodic Table"
   ]
  },
  {
   "cell_type": "code",
   "execution_count": 8,
   "id": "noble-hardwood",
   "metadata": {},
   "outputs": [],
   "source": [
    "block = {1:'s', 2:'p',3:'d', 4:'f'}"
   ]
  },
  {
   "cell_type": "code",
   "execution_count": 10,
   "id": "prescription-scope",
   "metadata": {},
   "outputs": [],
   "source": [
    "for i in range(1,5):\n",
    "    p=Block(Block_name=block[i])\n",
    "    p.save()"
   ]
  },
  {
   "cell_type": "markdown",
   "id": "plastic-climate",
   "metadata": {},
   "source": [
    "### Create Group in Periodic Table"
   ]
  },
  {
   "cell_type": "code",
   "execution_count": 11,
   "id": "technological-silence",
   "metadata": {},
   "outputs": [],
   "source": [
    "for i in range(0,19):\n",
    "    g=Group(Group_name=i)\n",
    "    g.save()"
   ]
  },
  {
   "cell_type": "markdown",
   "id": "unavailable-schedule",
   "metadata": {},
   "source": [
    "### Create Element in Periodic Table"
   ]
  },
  {
   "cell_type": "code",
   "execution_count": 6,
   "id": "plastic-extent",
   "metadata": {},
   "outputs": [],
   "source": [
    "import pandas as pd\n",
    "data = pd.read_csv(\"updated_periodic_table.csv\")"
   ]
  },
  {
   "cell_type": "markdown",
   "id": "brave-basket",
   "metadata": {},
   "source": [
    "### Nan value in Group filled with 0\n",
    "### Type: Not_defined\n",
    "### AtomicRadius: 0\n",
    "### Elenegativity, FirstIonization, Density, MeltingPoint, BoilingPoint, NumberOfIsotopes, SpecificHeat, NumberofValence: -1\n",
    "### Discoverer: Not_defined\n",
    "### Year: 0"
   ]
  },
  {
   "cell_type": "code",
   "execution_count": 27,
   "id": "unsigned-lease",
   "metadata": {},
   "outputs": [
    {
     "name": "stdout",
     "output_type": "stream",
     "text": [
      "0\n",
      "1\n",
      "2\n",
      "3\n",
      "4\n",
      "5\n",
      "6\n",
      "7\n",
      "8\n",
      "9\n",
      "10\n",
      "11\n",
      "12\n",
      "13\n",
      "14\n",
      "15\n",
      "16\n",
      "17\n",
      "18\n",
      "19\n",
      "20\n",
      "21\n",
      "22\n",
      "23\n",
      "24\n",
      "25\n",
      "26\n",
      "27\n",
      "28\n",
      "29\n",
      "30\n",
      "31\n",
      "32\n",
      "33\n",
      "34\n",
      "35\n",
      "36\n",
      "37\n",
      "38\n",
      "39\n",
      "40\n",
      "41\n",
      "42\n",
      "43\n",
      "44\n",
      "45\n",
      "46\n",
      "47\n",
      "48\n",
      "49\n",
      "50\n",
      "51\n",
      "52\n",
      "53\n",
      "54\n",
      "55\n",
      "56\n",
      "57\n",
      "58\n",
      "59\n",
      "60\n",
      "61\n",
      "62\n",
      "63\n",
      "64\n",
      "65\n",
      "66\n",
      "67\n",
      "68\n",
      "69\n",
      "70\n",
      "71\n",
      "72\n",
      "73\n",
      "74\n",
      "75\n",
      "76\n",
      "77\n",
      "78\n",
      "79\n",
      "80\n",
      "81\n",
      "82\n",
      "83\n",
      "84\n",
      "85\n",
      "86\n",
      "87\n",
      "88\n",
      "89\n",
      "90\n",
      "91\n",
      "92\n",
      "93\n",
      "94\n",
      "95\n",
      "96\n",
      "97\n",
      "98\n",
      "99\n",
      "100\n",
      "101\n",
      "102\n",
      "103\n",
      "104\n",
      "105\n",
      "106\n",
      "107\n",
      "108\n",
      "109\n",
      "110\n",
      "111\n",
      "112\n",
      "113\n",
      "114\n",
      "115\n",
      "116\n",
      "117\n"
     ]
    }
   ],
   "source": [
    "for i in range(0,118):\n",
    "    print(i)\n",
    "    element = Element(AtomicNumber=data['AtomicNumber'][i], Element=data['Element'][i], Symbol=data['Symbol'][i],\n",
    "                  Block=Block.objects.get(Block_name=data['Block'][i]), AtomicMass=data['AtomicMass'][i],\n",
    "                  NumberofNeutrons=data['NumberofNeutrons'][i],\n",
    "                  NumberofProtons=data['NumberofProtons'][i], NumberofElectrons= data['NumberofElectrons'][i],\n",
    "                  Period=Period.objects.get(Period_name=data['Period'][i]), Group=Group.objects.get(Group_name=data['Group'][i]),\n",
    "                  Phase=data['Phase'][i],\n",
    "                  Radioactive=data['Radioactive'][i],\n",
    "                  Natural=data['Natural'][i], Metal=data['Metal'][i], Nonmetal=data['Nonmetal'][i], \n",
    "                  Metalloid=data['Metalloid'][i], Type=data['Type'][i], AtomicRadius=data['AtomicRadius'][i],\n",
    "                  Electronegativity=data['Electronegativity'][i], FirstIonization=data['FirstIonization'][i],\n",
    "                  Density=data['Density'][i], MeltingPoint=data['MeltingPoint'][i], BoilingPoint=data['BoilingPoint'][i],\n",
    "                  NumberOfIsotopes=data['NumberOfIsotopes'][i], Discoverer=data['Discoverer'][i], Year=data['Year'][i],\n",
    "                  SpecificHeat=data['SpecificHeat'][i], NumberofShells=data['NumberofShells'][i],\n",
    "                  NumberofValence=data['NumberofValence'][i])\n",
    "    element.save()"
   ]
  },
  {
   "cell_type": "code",
   "execution_count": null,
   "id": "vanilla-contributor",
   "metadata": {},
   "outputs": [],
   "source": []
  }
 ],
 "metadata": {
  "kernelspec": {
   "display_name": "Django Shell-Plus",
   "language": "python",
   "name": "django_extensions"
  },
  "language_info": {
   "codemirror_mode": {
    "name": "ipython",
    "version": 3
   },
   "file_extension": ".py",
   "mimetype": "text/x-python",
   "name": "python",
   "nbconvert_exporter": "python",
   "pygments_lexer": "ipython3",
   "version": "3.8.6"
  }
 },
 "nbformat": 4,
 "nbformat_minor": 5
}
